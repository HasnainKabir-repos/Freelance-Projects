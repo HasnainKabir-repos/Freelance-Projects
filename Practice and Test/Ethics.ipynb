{
 "cells": [
  {
   "cell_type": "code",
   "execution_count": 1,
   "id": "50f802f0",
   "metadata": {},
   "outputs": [
    {
     "name": "stdout",
     "output_type": "stream",
     "text": [
      "Collecting stability-sdk\n",
      "  Downloading stability_sdk-0.8.1-py3-none-any.whl (83 kB)\n",
      "Requirement already satisfied: param in f:\\installation_folder\\anaconda\\lib\\site-packages (from stability-sdk) (1.12.0)\n",
      "Collecting protobuf==4.21.12\n",
      "  Downloading protobuf-4.21.12-cp39-cp39-win_amd64.whl (527 kB)\n",
      "Requirement already satisfied: Pillow in f:\\installation_folder\\anaconda\\lib\\site-packages (from stability-sdk) (9.0.1)\n",
      "Collecting grpcio-tools==1.53.0\n",
      "  Downloading grpcio_tools-1.53.0-cp39-cp39-win_amd64.whl (1.7 MB)\n",
      "Collecting python-dotenv\n",
      "  Downloading python_dotenv-1.0.0-py3-none-any.whl (19 kB)\n",
      "Collecting grpcio==1.53.0\n",
      "  Downloading grpcio-1.53.0-cp39-cp39-win_amd64.whl (4.0 MB)\n",
      "Requirement already satisfied: setuptools in f:\\installation_folder\\anaconda\\lib\\site-packages (from grpcio-tools==1.53.0->stability-sdk) (61.2.0)\n",
      "Installing collected packages: protobuf, grpcio, python-dotenv, grpcio-tools, stability-sdk\n",
      "  Attempting uninstall: protobuf\n",
      "    Found existing installation: protobuf 3.19.1\n",
      "    Uninstalling protobuf-3.19.1:\n",
      "      Successfully uninstalled protobuf-3.19.1\n",
      "  Attempting uninstall: grpcio\n",
      "    Found existing installation: grpcio 1.42.0\n",
      "    Uninstalling grpcio-1.42.0:\n",
      "      Successfully uninstalled grpcio-1.42.0\n",
      "Successfully installed grpcio-1.53.0 grpcio-tools-1.53.0 protobuf-4.21.12 python-dotenv-1.0.0 stability-sdk-0.8.1\n",
      "Note: you may need to restart the kernel to use updated packages.\n"
     ]
    }
   ],
   "source": [
    "pip install stability-sdk"
   ]
  },
  {
   "cell_type": "code",
   "execution_count": 2,
   "id": "fdd8b4ae",
   "metadata": {},
   "outputs": [],
   "source": [
    "from stability_sdk import api\n",
    "\n",
    "STABILITY_HOST = \"grpc.stability.ai:443\"\n",
    "STABILITY_KEY = \"sk-5C0utBadXI0b1pdYt79r9Dkod5Du0KVMvTdWFwrcmi8c1yGv\" # API key from https://dreamstudio.ai/account\n",
    "\n",
    "context = api.Context(STABILITY_HOST, STABILITY_KEY)"
   ]
  },
  {
   "cell_type": "code",
   "execution_count": 6,
   "id": "d95412ad",
   "metadata": {},
   "outputs": [],
   "source": [
    "from stability_sdk.animation import AnimationArgs, Animator\n",
    "\n",
    "# Configure the animation\n",
    "args = AnimationArgs()\n",
    "args.interpolate_prompts = True\n",
    "args.locked_seed = True\n",
    "args.max_frames = 48\n",
    "args.seed = 42\n",
    "args.strength_curve = \"0:(0)\"\n",
    "args.diffusion_cadence_curve = \"0:(4)\"\n",
    "args.cadence_interp = \"film\"\n",
    "\n",
    "animation_prompts = {\n",
    "    0: \" Fast-paced montage of people interacting with AI devices\",\n",
    "\n",
    "}\n",
    "negative_prompt = \"\"\n",
    "\n",
    "# Create Animator object to orchestrate the rendering\n",
    "animator = Animator(\n",
    "    api_context=context,\n",
    "    animation_prompts=animation_prompts,\n",
    "    negative_prompt=negative_prompt,\n",
    "    args=args\n",
    ")\n",
    "\n",
    "# Render each frame of animation\n",
    "for idx, frame in enumerate(animator.render()):\n",
    "    frame.save(f\"frame_{idx:05d}.png\")"
   ]
  },
  {
   "cell_type": "code",
   "execution_count": 4,
   "id": "98df3f73",
   "metadata": {},
   "outputs": [
    {
     "name": "stdout",
     "output_type": "stream",
     "text": [
      "Collecting keyframed\n",
      "  Downloading keyframed-0.3.13-py3-none-any.whl (21 kB)\n",
      "Collecting omegaconf\n",
      "  Downloading omegaconf-2.3.0-py3-none-any.whl (79 kB)\n",
      "Requirement already satisfied: sortedcontainers in f:\\installation_folder\\anaconda\\lib\\site-packages (from keyframed) (2.4.0)\n",
      "Requirement already satisfied: matplotlib in f:\\installation_folder\\anaconda\\lib\\site-packages (from keyframed) (3.5.1)\n",
      "Requirement already satisfied: packaging>=20.0 in f:\\installation_folder\\anaconda\\lib\\site-packages (from matplotlib->keyframed) (21.3)\n",
      "Requirement already satisfied: cycler>=0.10 in f:\\installation_folder\\anaconda\\lib\\site-packages (from matplotlib->keyframed) (0.11.0)\n",
      "Requirement already satisfied: pyparsing>=2.2.1 in f:\\installation_folder\\anaconda\\lib\\site-packages (from matplotlib->keyframed) (3.0.4)\n",
      "Requirement already satisfied: pillow>=6.2.0 in f:\\installation_folder\\anaconda\\lib\\site-packages (from matplotlib->keyframed) (9.0.1)\n",
      "Requirement already satisfied: numpy>=1.17 in f:\\installation_folder\\anaconda\\lib\\site-packages (from matplotlib->keyframed) (1.21.5)\n",
      "Requirement already satisfied: kiwisolver>=1.0.1 in f:\\installation_folder\\anaconda\\lib\\site-packages (from matplotlib->keyframed) (1.3.2)\n",
      "Requirement already satisfied: python-dateutil>=2.7 in f:\\installation_folder\\anaconda\\lib\\site-packages (from matplotlib->keyframed) (2.8.2)\n",
      "Requirement already satisfied: fonttools>=4.22.0 in f:\\installation_folder\\anaconda\\lib\\site-packages (from matplotlib->keyframed) (4.25.0)\n",
      "Requirement already satisfied: six>=1.5 in f:\\installation_folder\\anaconda\\lib\\site-packages (from python-dateutil>=2.7->matplotlib->keyframed) (1.16.0)\n",
      "Collecting antlr4-python3-runtime==4.9.*\n",
      "  Downloading antlr4-python3-runtime-4.9.3.tar.gz (117 kB)\n",
      "Requirement already satisfied: PyYAML>=5.1.0 in f:\\installation_folder\\anaconda\\lib\\site-packages (from omegaconf->keyframed) (6.0)\n",
      "Building wheels for collected packages: antlr4-python3-runtime\n",
      "  Building wheel for antlr4-python3-runtime (setup.py): started\n",
      "  Building wheel for antlr4-python3-runtime (setup.py): finished with status 'done'\n",
      "  Created wheel for antlr4-python3-runtime: filename=antlr4_python3_runtime-4.9.3-py3-none-any.whl size=144587 sha256=545f7ebef7272b5f2a255702a2e88c42fdb1977a043e3ff056d463279d3dbd0a\n",
      "  Stored in directory: c:\\users\\user\\appdata\\local\\pip\\cache\\wheels\\23\\cf\\80\\f3efa822e6ab23277902ee9165fe772eeb1dfb8014f359020a\n",
      "Successfully built antlr4-python3-runtime\n",
      "Installing collected packages: antlr4-python3-runtime, omegaconf, keyframed\n",
      "Successfully installed antlr4-python3-runtime-4.9.3 keyframed-0.3.13 omegaconf-2.3.0\n",
      "Note: you may need to restart the kernel to use updated packages.\n"
     ]
    }
   ],
   "source": [
    "pip install keyframed"
   ]
  },
  {
   "cell_type": "code",
   "execution_count": null,
   "id": "c5359683",
   "metadata": {},
   "outputs": [],
   "source": []
  }
 ],
 "metadata": {
  "kernelspec": {
   "display_name": "Python 3 (ipykernel)",
   "language": "python",
   "name": "python3"
  },
  "language_info": {
   "codemirror_mode": {
    "name": "ipython",
    "version": 3
   },
   "file_extension": ".py",
   "mimetype": "text/x-python",
   "name": "python",
   "nbconvert_exporter": "python",
   "pygments_lexer": "ipython3",
   "version": "3.9.12"
  }
 },
 "nbformat": 4,
 "nbformat_minor": 5
}
