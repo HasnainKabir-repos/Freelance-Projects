{
 "cells": [
  {
   "cell_type": "code",
   "execution_count": 3,
   "id": "58cbc149",
   "metadata": {},
   "outputs": [],
   "source": [
    "import numpy as np\n",
    "import pandas as pd\n",
    "import plotly.express as px\n",
    "import matplotlib.pyplot as plt\n",
    "import seaborn as sns\n",
    "\n",
    "# This might be helpful:\n",
    "from collections import Counter"
   ]
  },
  {
   "cell_type": "code",
   "execution_count": 4,
   "id": "140dd2ae",
   "metadata": {},
   "outputs": [],
   "source": [
    "pd.options.display.float_format = '{:,.2f}'.format"
   ]
  },
  {
   "cell_type": "code",
   "execution_count": 43,
   "id": "398c70af",
   "metadata": {},
   "outputs": [],
   "source": [
    "df_hh_income = pd.read_csv('Median_Household_Income_2015.csv', encoding=\"windows-1252\")\n",
    "df_pct_poverty = pd.read_csv('Pct_People_Below_Poverty_Level.csv', encoding=\"windows-1252\")\n",
    "df_pct_completed_hs = pd.read_csv('Pct_Over_25_Completed_High_School.csv', encoding=\"windows-1252\")\n",
    "df_share_race_city = pd.read_csv('Share_of_Race_By_City.csv', encoding=\"windows-1252\")\n",
    "df_fatalities = pd.read_csv('Deaths_by_Police_US.csv', encoding=\"windows-1252\")"
   ]
  },
  {
   "cell_type": "markdown",
   "id": "68f982f3",
   "metadata": {},
   "source": [
    "## Preliminary data exploration"
   ]
  },
  {
   "cell_type": "code",
   "execution_count": 46,
   "id": "1e4d21a2",
   "metadata": {
    "scrolled": false
   },
   "outputs": [
    {
     "name": "stdout",
     "output_type": "stream",
     "text": [
      "df_hh_income (29322, 3)\n",
      "df_pct_poverty (29329, 3)\n",
      "df_pct_completed_hs (29329, 3)\n",
      "df_share_race_city (29268, 7)\n",
      "df_fatalities (2535, 14)\n"
     ]
    }
   ],
   "source": [
    "print('df_hh_income '+ str(df_hh_income.shape))\n",
    "print('df_pct_poverty '+ str(df_pct_poverty.shape))\n",
    "print('df_pct_completed_hs '+ str(df_pct_completed_hs.shape))\n",
    "print('df_share_race_city '+ str(df_share_race_city.shape))\n",
    "print('df_fatalities '+ str(df_fatalities.shape))"
   ]
  },
  {
   "cell_type": "code",
   "execution_count": 50,
   "id": "f6179c46",
   "metadata": {},
   "outputs": [
    {
     "name": "stdout",
     "output_type": "stream",
     "text": [
      "df_hh_income\n",
      "Rows: 29322 Columns: 3\n",
      "df_pct_poverty\n",
      "Rows: 29329 Columns: 3\n",
      "df_pct_completed_hs\n",
      "Rows: 29329 Columns: 3\n",
      "df_share_race_city\n",
      "Rows: 29268 Columns: 7\n",
      "df_fatalities\n",
      "Rows: 2535 Columns: 14\n"
     ]
    }
   ],
   "source": [
    "print('df_hh_income')\n",
    "print('Rows: '+ str(df_hh_income.shape[0]) +' Columns: '+ str(df_hh_income.shape[1]))\n",
    "\n",
    "print('df_pct_poverty')\n",
    "print('Rows: '+ str(df_pct_poverty.shape[0]) +' Columns: '+ str(df_pct_poverty.shape[1]))\n",
    "\n",
    "print('df_pct_completed_hs')\n",
    "print('Rows: '+ str(df_pct_completed_hs.shape[0]) +' Columns: '+ str(df_pct_completed_hs.shape[1]))\n",
    "\n",
    "print('df_share_race_city')\n",
    "print('Rows: '+ str(df_share_race_city.shape[0]) +' Columns: '+ str(df_share_race_city.shape[1]))\n",
    "\n",
    "print('df_fatalities')\n",
    "print('Rows: '+ str(df_fatalities.shape[0]) +' Columns: '+ str(df_fatalities.shape[1]))"
   ]
  },
  {
   "cell_type": "code",
   "execution_count": 56,
   "id": "8f74e0b3",
   "metadata": {},
   "outputs": [
    {
     "name": "stdout",
     "output_type": "stream",
     "text": [
      "df_hh_income\n",
      "['Geographic Area', 'City', 'Median Income']\n",
      "df_pct_poverty\n",
      "['Geographic Area', 'City', 'poverty_rate']\n",
      "df_pct_completed_hs\n",
      "['Geographic Area', 'City', 'percent_completed_hs']\n",
      "df_share_race_city\n",
      "['Geographic area', 'City', 'share_white', 'share_black', 'share_native_american', 'share_asian', 'share_hispanic']\n",
      "df_fatalities\n",
      "['id', 'name', 'date', 'manner_of_death', 'armed', 'age', 'gender', 'race', 'city', 'state', 'signs_of_mental_illness', 'threat_level', 'flee', 'body_camera']\n"
     ]
    }
   ],
   "source": [
    "print('df_hh_income')\n",
    "print(list(df_hh_income.columns))\n",
    "\n",
    "print('df_pct_poverty')\n",
    "print(list(df_pct_poverty.columns))\n",
    "\n",
    "print('df_pct_completed_hs')\n",
    "print(list(df_pct_completed_hs.columns))\n",
    "\n",
    "print('df_share_race_city')\n",
    "print(list(df_share_race_city.columns))\n",
    "\n",
    "print('df_fatalities')\n",
    "print(list(df_fatalities.columns))"
   ]
  },
  {
   "cell_type": "code",
   "execution_count": null,
   "id": "ca7dde8e",
   "metadata": {},
   "outputs": [],
   "source": []
  }
 ],
 "metadata": {
  "kernelspec": {
   "display_name": "Python 3 (ipykernel)",
   "language": "python",
   "name": "python3"
  },
  "language_info": {
   "codemirror_mode": {
    "name": "ipython",
    "version": 3
   },
   "file_extension": ".py",
   "mimetype": "text/x-python",
   "name": "python",
   "nbconvert_exporter": "python",
   "pygments_lexer": "ipython3",
   "version": "3.9.12"
  }
 },
 "nbformat": 4,
 "nbformat_minor": 5
}
