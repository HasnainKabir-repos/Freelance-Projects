{
 "cells": [
  {
   "cell_type": "code",
   "execution_count": 32,
   "id": "351bfd20",
   "metadata": {},
   "outputs": [],
   "source": [
    "from time import sleep\n",
    "from selenium import webdriver\n",
    "from selenium.webdriver.common.keys import Keys\n",
    "from bs4 import BeautifulSoup\n",
    "from selenium.webdriver.common.by import By\n",
    "from selenium.webdriver.support.ui import WebDriverWait\n",
    "from selenium.webdriver.support import expected_conditions as EC\n",
    "from selenium.common.exceptions import TimeoutException\n",
    "\n",
    "import requests"
   ]
  },
  {
   "cell_type": "code",
   "execution_count": 70,
   "id": "251c37c4",
   "metadata": {
    "scrolled": false
   },
   "outputs": [
    {
     "name": "stderr",
     "output_type": "stream",
     "text": [
      "C:\\Users\\User\\AppData\\Local\\Temp\\ipykernel_11328\\798948819.py:1: DeprecationWarning: executable_path has been deprecated, please pass in a Service object\n",
      "  driver = webdriver.Chrome(\"C:\\Program Files\\Google\\Chrome\\Application\\chromedriver.exe\")\n"
     ]
    }
   ],
   "source": [
    "driver = webdriver.Chrome(\"C:\\Program Files\\Google\\Chrome\\Application\\chromedriver.exe\")\n",
    "driver.get('https://sis.iutoic-dhaka.edu/')\n",
    "sleep(1)\n",
    "\n",
    "### get username and password input boxes path\n",
    "username = driver.find_element(\"xpath\",\"//input[@placeholder='User ID']\")\n",
    "password = driver.find_element(\"xpath\",\"//input[@placeholder='Password']\")\n",
    "\n",
    "### input the user id and password\n",
    "username.send_keys(\"\")\n",
    "password.send_keys(\"\")\n",
    "\n",
    "### click the login button\n",
    "login_btn = driver.find_element(\"xpath\", \"//button[@id='m_login_signin_submit']\")\n",
    "login_btn.click()\n",
    "\n",
    "\n",
    "toggler = driver.find_element(\"xpath\", \"//button[@id='kt_aside_mobile_toggler']\")\n",
    "toggler.click()\n",
    "## locate the course feedback\n",
    "\n",
    "try:\n",
    "    button = WebDriverWait(driver, 5).until(EC.element_to_be_clickable((By.XPATH, \"//span[text()='Course Feedback']\")))\n",
    "    button.click()\n",
    "except TimeoutException as ex:\n",
    "    print(\"Exception has been thrown. \" + str(ex))\n",
    "\n",
    "WebDriverWait(driver, 5).until(EC.element_to_be_clickable((By.LINK_TEXT, 'Evaluate')))\n",
    "evaluate = driver.find_elements(By.LINK_TEXT, 'Evaluate')\n",
    "\n",
    "evaluate[0].click()\n",
    "\n",
    "WebDriverWait(driver, 5).until(EC.element_to_be_clickable((By.XPATH, \"//input[@value='5']\")))\n",
    "radio_btn = driver.find_elements(By.XPATH, \"//input[@value='5']\")\n",
    "\n",
    "for r in radio_btn:\n",
    "    r.click()\n",
    "\n",
    "text_area = driver.find_elements(By.XPATH, \"//textarea[@class='form-control']\")\n",
    "\n",
    "for t in text_area:\n",
    "    t.send_keys(\"Overall satisfactory\")\n",
    "    \n",
    "btn = driver.find_element(\"xpath\", \"//button[text()='Submit']\")\n",
    "btn.click()\n",
    "    "
   ]
  },
  {
   "cell_type": "code",
   "execution_count": null,
   "id": "b30818cd",
   "metadata": {},
   "outputs": [],
   "source": []
  },
  {
   "cell_type": "code",
   "execution_count": null,
   "id": "9f453445",
   "metadata": {},
   "outputs": [],
   "source": []
  }
 ],
 "metadata": {
  "kernelspec": {
   "display_name": "Python 3 (ipykernel)",
   "language": "python",
   "name": "python3"
  },
  "language_info": {
   "codemirror_mode": {
    "name": "ipython",
    "version": 3
   },
   "file_extension": ".py",
   "mimetype": "text/x-python",
   "name": "python",
   "nbconvert_exporter": "python",
   "pygments_lexer": "ipython3",
   "version": "3.9.12"
  }
 },
 "nbformat": 4,
 "nbformat_minor": 5
}
