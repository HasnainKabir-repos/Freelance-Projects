{
 "cells": [
  {
   "cell_type": "code",
   "execution_count": 1,
   "id": "b8b96afd",
   "metadata": {},
   "outputs": [],
   "source": [
    "import openpyxl"
   ]
  },
  {
   "cell_type": "code",
   "execution_count": 62,
   "id": "d1cb77e6",
   "metadata": {},
   "outputs": [
    {
     "name": "stdout",
     "output_type": "stream",
     "text": [
      "[{'Contact Name': 'Aaron Kopecki', 'Title': 'Leasing Manager', 'Role': 'Houston', 'Market': '(832) 640-4444', 'Phone Number': '3800 Garrott St, Houston, Texas 77006, United States', 'Address': 'Houston', 'City': 'Texas', 'State': 'Cody J Lutsch'}, {'Contact Name': 'President', 'Title': 'True Owner', 'Role': 'Houston', 'Market': '(832) 640-4444', 'Phone Number': '3800 Garrott St, Houston, Texas 77006, United States', 'Address': 'Houston', 'City': 'Texas', 'State': 'Sarah Massegee'}, {'Contact Name': 'Property Manager', 'Title': 'Houston', 'Role': '(832) 640-4444', 'Market': '3800 Garrott St, Houston, Texas 77006, United States', 'Phone Number': 'Houston', 'Address': 'Texas', 'City': 'Milton Mireless', 'State': 'Maintenance Manager'}, {'Contact Name': 'Houston', 'Title': '(832) 640-4444', 'Role': '3800 Garrott St, Houston, Texas 77006, United States', 'Market': 'Houston', 'Phone Number': 'Texas', 'Address': 'Mike Nabilsi', 'City': 'Houston', 'State': '(832) 640-4444'}, {'Contact Name': '3800 Garrott St, Houston, Texas 77006, United States', 'Title': 'Houston', 'Role': 'Texas', 'Market': 'Susana Ortiz', 'Phone Number': 'Property Manager', 'Address': 'Houston', 'City': '(832) 640-4444', 'State': '3800 Garrott St, Houston, Texas 77006, United States'}, {'Contact Name': 'Houston', 'Title': 'Texas', 'Role': 'Tasha Raie', 'Market': 'Leasing', 'Phone Number': 'Houston', 'Address': '3800 Garrott St, Houston, Texas 77006, United States', 'City': 'Houston', 'State': 'Texas'}, {'Contact Name': 'Abby Rojas', 'Title': 'Assistant Property Manager', 'Role': 'Property Manager', 'Market': 'Houston', 'Phone Number': '(832) 640-4444', 'Address': '3800 Garrott St, Houston, Texas 77006, United States', 'City': 'Houston', 'State': 'Texas'}]\n"
     ]
    },
    {
     "ename": "AttributeError",
     "evalue": "'str' object has no attribute 'cell'",
     "output_type": "error",
     "traceback": [
      "\u001b[1;31m---------------------------------------------------------------------------\u001b[0m",
      "\u001b[1;31mAttributeError\u001b[0m                            Traceback (most recent call last)",
      "Input \u001b[1;32mIn [62]\u001b[0m, in \u001b[0;36m<cell line: 39>\u001b[1;34m()\u001b[0m\n\u001b[0;32m     35\u001b[0m             cell\u001b[38;5;241m.\u001b[39mvalue \u001b[38;5;241m=\u001b[39m row_data[key]\n\u001b[0;32m     37\u001b[0m     wb\u001b[38;5;241m.\u001b[39msave(filename\u001b[38;5;241m=\u001b[39m\u001b[38;5;124m'\u001b[39m\u001b[38;5;124mcorrect project .xlsx\u001b[39m\u001b[38;5;124m'\u001b[39m)\n\u001b[1;32m---> 39\u001b[0m \u001b[43marrange_data\u001b[49m\u001b[43m(\u001b[49m\u001b[38;5;124;43m'\u001b[39;49m\u001b[38;5;124;43mSheet2\u001b[39;49m\u001b[38;5;124;43m'\u001b[39;49m\u001b[43m,\u001b[49m\u001b[43m \u001b[49m\u001b[38;5;241;43m8\u001b[39;49m\u001b[43m,\u001b[49m\u001b[43m \u001b[49m\u001b[38;5;241;43m12\u001b[39;49m\u001b[43m)\u001b[49m\n",
      "Input \u001b[1;32mIn [62]\u001b[0m, in \u001b[0;36marrange_data\u001b[1;34m(sheet_name, number_of_columns, data_begin_row)\u001b[0m\n\u001b[0;32m     27\u001b[0m header \u001b[38;5;241m=\u001b[39m \u001b[38;5;28mlist\u001b[39m(rearranged_data[\u001b[38;5;241m0\u001b[39m]\u001b[38;5;241m.\u001b[39mkeys())\n\u001b[0;32m     28\u001b[0m \u001b[38;5;28;01mfor\u001b[39;00m col_num, column_title \u001b[38;5;129;01min\u001b[39;00m \u001b[38;5;28menumerate\u001b[39m(header, \u001b[38;5;241m1\u001b[39m):\n\u001b[1;32m---> 29\u001b[0m     cell \u001b[38;5;241m=\u001b[39m \u001b[43mnew_sheet\u001b[49m\u001b[38;5;241;43m.\u001b[39;49m\u001b[43mcell\u001b[49m(row\u001b[38;5;241m=\u001b[39m\u001b[38;5;241m1\u001b[39m, column\u001b[38;5;241m=\u001b[39mcol_num)\n\u001b[0;32m     30\u001b[0m     cell\u001b[38;5;241m.\u001b[39mvalue \u001b[38;5;241m=\u001b[39m column_title\n\u001b[0;32m     32\u001b[0m \u001b[38;5;28;01mfor\u001b[39;00m row_num, row_data \u001b[38;5;129;01min\u001b[39;00m \u001b[38;5;28menumerate\u001b[39m(rearranged_data, \u001b[38;5;241m2\u001b[39m):\n",
      "\u001b[1;31mAttributeError\u001b[0m: 'str' object has no attribute 'cell'"
     ]
    }
   ],
   "source": [
    "old_sheet = 'Sheet2'\n",
    "new_sheet = 'Sheet3'\n",
    "\n",
    "def arrange_data(sheet_name, number_of_columns, data_begin_row):\n",
    "    wb = openpyxl.load_workbook(filename='correct project .xlsx')\n",
    "    sheet = wb[sheet_name]\n",
    "    order = [cell.value for row in sheet[1:number_of_columns] for cell in row]\n",
    "    max_row = sheet.max_row\n",
    "    rearranged_data =[]\n",
    "\n",
    "    i = 0\n",
    "\n",
    "    row_data = {}\n",
    "    for row in range(data_begin_row, max_row+1):\n",
    "        if i==len(order) :\n",
    "            i=0\n",
    "            rearranged_data.append(row_data)\n",
    "            row_data = {}\n",
    "\n",
    "        col_index = i + 1\n",
    "        cell_value = sheet.cell(row=row, column=1).value\n",
    "        row_data[order[i]] = cell_value\n",
    "        i+=1\n",
    "    \n",
    "    \n",
    "    print(rearranged_data)\n",
    "    header = list(rearranged_data[0].keys())\n",
    "    for col_num, column_title in enumerate(header, 1):\n",
    "        cell = wb[new_sheet].cell(row=1, column=col_num)\n",
    "        cell.value = column_title\n",
    "        \n",
    "    for row_num, row_data in enumerate(rearranged_data, 2):\n",
    "        for col_num, key in enumerate(header, 1):\n",
    "            cell = wb[new_sheet].cell(row=row_num, column=col_num)\n",
    "            cell.value = row_data[key]\n",
    "\n",
    "    wb.save(filename='correct project .xlsx')\n",
    "\n",
    "arrange_data('Sheet2', 8, 12)"
   ]
  },
  {
   "cell_type": "code",
   "execution_count": 51,
   "id": "21d330f3",
   "metadata": {},
   "outputs": [
    {
     "name": "stdout",
     "output_type": "stream",
     "text": [
      "[{'Contact Name': 'Aaron Kopecki', 'Title': 'Leasing Manager', 'Role': 'Houston', 'Market': '(832) 640-4444', 'Phone Number': '3800 Garrott St, Houston, Texas 77006, United States', 'Address': 'Houston', 'City': 'Texas'}, {'Contact Name': 'Cody J Lutsch', 'Title': 'President', 'Role': 'True Owner', 'Market': 'Houston', 'Phone Number': '(832) 640-4444', 'Address': '3800 Garrott St, Houston, Texas 77006, United States', 'City': 'Houston'}, {'Contact Name': 'Texas', 'Title': 'Sarah Massegee', 'Role': 'Property Manager', 'Market': 'Houston', 'Phone Number': '(832) 640-4444', 'Address': '3800 Garrott St, Houston, Texas 77006, United States', 'City': 'Houston'}, {'Contact Name': 'Texas', 'Title': 'Milton Mireless', 'Role': 'Maintenance Manager', 'Market': 'Houston', 'Phone Number': '(832) 640-4444', 'Address': '3800 Garrott St, Houston, Texas 77006, United States', 'City': 'Houston'}, {'Contact Name': 'Texas', 'Title': 'Mike Nabilsi', 'Role': 'Houston', 'Market': '(832) 640-4444', 'Phone Number': '3800 Garrott St, Houston, Texas 77006, United States', 'Address': 'Houston', 'City': 'Texas'}, {'Contact Name': 'Susana Ortiz', 'Title': 'Property Manager', 'Role': 'Houston', 'Market': '(832) 640-4444', 'Phone Number': '3800 Garrott St, Houston, Texas 77006, United States', 'Address': 'Houston', 'City': 'Texas'}, {'Contact Name': 'Tasha Raie', 'Title': 'Leasing', 'Role': 'Houston', 'Market': '3800 Garrott St, Houston, Texas 77006, United States', 'Phone Number': 'Houston', 'Address': 'Texas', 'City': 'Abby Rojas'}, {'Contact Name': 'Assistant Property Manager', 'Title': 'Property Manager', 'Role': 'Houston', 'Market': '(832) 640-4444', 'Phone Number': '3800 Garrott St, Houston, Texas 77006, United States', 'Address': 'Houston', 'City': 'Texas'}, {'Contact Name': 'Valory Smith', 'Title': 'Assistant Property Manager', 'Role': 'Houston', 'Market': '(832) 640-4444', 'Phone Number': '3800 Garrott St, Houston, Texas 77006, United States', 'Address': 'Houston', 'City': 'Texas'}]\n"
     ]
    },
    {
     "data": {
      "text/plain": [
       "8"
      ]
     },
     "execution_count": 51,
     "metadata": {},
     "output_type": "execute_result"
    }
   ],
   "source": [
    "sheet_name = 'Sheet2'\n",
    "wb = openpyxl.load_workbook(filename='correct project .xlsx')\n",
    "sheet = wb[sheet_name]\n",
    "order = [cell.value for row in sheet[1:8] for cell in row]\n",
    "max_row = sheet.max_row\n",
    "rearranged_data =[]\n",
    "i = 0\n",
    "\n",
    "row_data = {}\n",
    "for row in range(12, max_row+1):\n",
    "    if i==len(order) - 1:\n",
    "        i=0\n",
    "        rearranged_data.append(row_data)\n",
    "        row_data = {}\n",
    "    \n",
    "    col_index = i + 1\n",
    "    cell_value = sheet.cell(row=row, column=1).value\n",
    "    row_data[order[i]] = cell_value\n",
    "    i+=1\n",
    "    \n",
    "    \n",
    "print(rearranged_data)\n",
    "len(order)"
   ]
  },
  {
   "cell_type": "code",
   "execution_count": 50,
   "id": "a4531f51",
   "metadata": {},
   "outputs": [
    {
     "data": {
      "text/plain": [
       "'Leasing Manager'"
      ]
     },
     "execution_count": 50,
     "metadata": {},
     "output_type": "execute_result"
    }
   ],
   "source": [
    "sheet.cell(row=13, column=1).value"
   ]
  },
  {
   "cell_type": "code",
   "execution_count": null,
   "id": "aa4edb83",
   "metadata": {},
   "outputs": [],
   "source": []
  }
 ],
 "metadata": {
  "kernelspec": {
   "display_name": "Python 3 (ipykernel)",
   "language": "python",
   "name": "python3"
  },
  "language_info": {
   "codemirror_mode": {
    "name": "ipython",
    "version": 3
   },
   "file_extension": ".py",
   "mimetype": "text/x-python",
   "name": "python",
   "nbconvert_exporter": "python",
   "pygments_lexer": "ipython3",
   "version": "3.9.12"
  }
 },
 "nbformat": 4,
 "nbformat_minor": 5
}
