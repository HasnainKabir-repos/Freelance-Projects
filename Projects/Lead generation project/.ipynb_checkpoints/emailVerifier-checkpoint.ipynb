{
 "cells": [
  {
   "cell_type": "code",
   "execution_count": 2,
   "id": "5d3f3182",
   "metadata": {},
   "outputs": [
    {
     "name": "stdout",
     "output_type": "stream",
     "text": [
      "Error: Insufficient credit balance. This transaction requires 1 credits. The current available credit balance is 0.\n",
      "The email 'hasnainkabir120@gmail.com' is invalid.\n"
     ]
    }
   ],
   "source": [
    "import requests\n",
    "\n",
    "def check_email_validity(email):\n",
    "    api_key = '70c89cb48c488be7a3e3304fd493854e'  # Replace with your Mailboxlayer API key\n",
    "    url = f'https://apilayer.com/api/check?access_key={api_key}&email={email}'\n",
    "    \n",
    "    response = requests.get(url)\n",
    "    result = response.json()\n",
    "    \n",
    "    if response.status_code != 200:\n",
    "        print(f\"Error: Failed to connect to the Mailboxlayer API. Status code: {response.status_code}\")\n",
    "        return False\n",
    "    \n",
    "    if 'error' in result:\n",
    "        error_message = result['error']['info']\n",
    "        print(f\"Error: {error_message}\")\n",
    "        return False\n",
    "    \n",
    "    if result['format_valid'] and result['smtp_check']:\n",
    "        return True\n",
    "    else:\n",
    "        return False\n",
    "\n",
    "# Usage example\n",
    "email_to_check = 'example@example.com'\n",
    "valid = check_email_validity(email_to_check)\n",
    "\n",
    "if valid:\n",
    "    print(f\"The email '{email_to_check}' is valid.\")\n",
    "else:\n",
    "    print(f\"The email '{email_to_check}' is invalid.\")\n"
   ]
  },
  {
   "cell_type": "code",
   "execution_count": null,
   "id": "62912f7f",
   "metadata": {},
   "outputs": [],
   "source": []
  }
 ],
 "metadata": {
  "kernelspec": {
   "display_name": "Python 3 (ipykernel)",
   "language": "python",
   "name": "python3"
  },
  "language_info": {
   "codemirror_mode": {
    "name": "ipython",
    "version": 3
   },
   "file_extension": ".py",
   "mimetype": "text/x-python",
   "name": "python",
   "nbconvert_exporter": "python",
   "pygments_lexer": "ipython3",
   "version": "3.9.12"
  }
 },
 "nbformat": 4,
 "nbformat_minor": 5
}
