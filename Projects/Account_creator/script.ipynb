{
 "cells": [
  {
   "cell_type": "code",
   "execution_count": 5,
   "id": "bea58d31",
   "metadata": {},
   "outputs": [],
   "source": [
    "import argparse\n",
    "import random\n",
    "import string\n",
    "import sys\n",
    "import time"
   ]
  },
  {
   "cell_type": "code",
   "execution_count": 99,
   "id": "5d2f3055",
   "metadata": {},
   "outputs": [
    {
     "name": "stdout",
     "output_type": "stream",
     "text": [
      "Enter first name: Nibir\n",
      "Enter last name: Kabir\n"
     ]
    }
   ],
   "source": [
    "DOMAINS = ['mail.com', 'email.com']\n",
    "domain = \"\"\n",
    "name_option = \"\"\n",
    "Random_name = \"\"\n",
    "first_name, last_name = getName()"
   ]
  },
  {
   "cell_type": "code",
   "execution_count": 100,
   "id": "e4a515a6",
   "metadata": {},
   "outputs": [],
   "source": [
    "def getName():\n",
    "    while True:\n",
    "        first_name = input(\"Enter first name: \").strip()\n",
    "        if first_name:\n",
    "            break\n",
    "    \n",
    "    while True:\n",
    "        last_name = input(\"Enter last name: \").strip()\n",
    "        if last_name:\n",
    "            break\n",
    "    return first_name, last_name"
   ]
  },
  {
   "cell_type": "code",
   "execution_count": 101,
   "id": "c2cd6d59",
   "metadata": {},
   "outputs": [],
   "source": [
    "def getDomain():\n",
    "    domain_no = input(\"Select an email domain: write 1 for mail.com and 2 for email.com \")\n",
    "    \n",
    "    if domain_no == \"1\":\n",
    "        domain = DOMAINS[0]\n",
    "    elif domain_no == \"2\":\n",
    "        domain = DOMAINS[1]\n",
    "    else:\n",
    "        print(\"Invalid domain selection please try again\")\n",
    "        domain = \"\"\n",
    "        getDomain()\n",
    "    "
   ]
  },
  {
   "cell_type": "code",
   "execution_count": 102,
   "id": "817f1677",
   "metadata": {},
   "outputs": [],
   "source": [
    "def getNameOption():\n",
    "    \n",
    "    print(\"Select your preferred name for email address creation:\")\n",
    "    name_no = input(\"Write 1 for first name, 2 for last name or 3 for full name: \")\n",
    "    \n",
    "    if name_no == \"1\":\n",
    "        name_option = first_name\n",
    "        Random_name = generateRandomName(name_no, name_option)\n",
    "    elif name_no == \"2\":\n",
    "        name_option = last_name\n",
    "        Random_name = generateRandomName(name_no, name_option)\n",
    "    elif name_no == \"3\":\n",
    "        #name_option = full_name\n",
    "        Random_name = generateRandomName(name_no, \"\")\n",
    "    else :\n",
    "        print(\"Invalid name selection please try again\")\n",
    "        name_option = \"\"\n",
    "        getNameOption()\n",
    "        "
   ]
  },
  {
   "cell_type": "code",
   "execution_count": null,
   "id": "cea9af04",
   "metadata": {},
   "outputs": [],
   "source": [
    "def generateRandomName(name_no, name):\n",
    "    \n",
    "    email_name = \"\"\n",
    "    \n",
    "    if name_no == \"1\" or name_no == \"2\":\n",
    "        email_name = name\n",
    "        \n",
    "        email_name+= str(random.randint(1950,2023))\n",
    "    \n",
    "    else:\n",
    "        EMAIL_FORMATS = [ 'ab#', 'ba#', 'a_b', 'b_a', 'a.b#', 'b.a#']\n",
    "        format_choice = random.randint(0,5);\n",
    "        \n",
    "        for char in EMAIL_FORMATS[format_choice]:\n",
    "            if char == 'a':\n",
    "                email_name += first_name\n",
    "            elif char == 'b':\n",
    "                email_name += last_name\n",
    "            elif char == '#':\n",
    "                email_name += str(random.randint(1950, 2023))\n",
    "            else:\n",
    "                email_name += char\n",
    "    return email_name"
   ]
  },
  {
   "cell_type": "code",
   "execution_count": null,
   "id": "32bc1afc",
   "metadata": {},
   "outputs": [],
   "source": []
  },
  {
   "cell_type": "code",
   "execution_count": 103,
   "id": "ccc61c4c",
   "metadata": {
    "scrolled": true
   },
   "outputs": [
    {
     "name": "stdout",
     "output_type": "stream",
     "text": [
      "Select your preferred name for email address creation:\n",
      "Write 1 for first name, 2 for last name or 3 for full name: 4\n",
      "Invalid name selection please try again\n",
      "Select your preferred name for email address creation:\n",
      "Write 1 for first name, 2 for last name or 3 for full name: 1\n"
     ]
    },
    {
     "ename": "KeyboardInterrupt",
     "evalue": "Interrupted by user",
     "output_type": "error",
     "traceback": [
      "\u001b[1;31m---------------------------------------------------------------------------\u001b[0m",
      "\u001b[1;31mKeyboardInterrupt\u001b[0m                         Traceback (most recent call last)",
      "Input \u001b[1;32mIn [103]\u001b[0m, in \u001b[0;36m<cell line: 1>\u001b[1;34m()\u001b[0m\n\u001b[1;32m----> 1\u001b[0m \u001b[43mgetNameOption\u001b[49m\u001b[43m(\u001b[49m\u001b[43m)\u001b[49m\n",
      "Input \u001b[1;32mIn [102]\u001b[0m, in \u001b[0;36mgetNameOption\u001b[1;34m()\u001b[0m\n\u001b[0;32m     16\u001b[0m \u001b[38;5;28mprint\u001b[39m(\u001b[38;5;124m\"\u001b[39m\u001b[38;5;124mInvalid name selection please try again\u001b[39m\u001b[38;5;124m\"\u001b[39m)\n\u001b[0;32m     17\u001b[0m name_option \u001b[38;5;241m=\u001b[39m \u001b[38;5;124m\"\u001b[39m\u001b[38;5;124m\"\u001b[39m\n\u001b[1;32m---> 18\u001b[0m \u001b[43mgetNameOption\u001b[49m\u001b[43m(\u001b[49m\u001b[43m)\u001b[49m\n",
      "Input \u001b[1;32mIn [102]\u001b[0m, in \u001b[0;36mgetNameOption\u001b[1;34m()\u001b[0m\n\u001b[0;32m      6\u001b[0m \u001b[38;5;28;01mif\u001b[39;00m name_no \u001b[38;5;241m==\u001b[39m \u001b[38;5;124m\"\u001b[39m\u001b[38;5;124m1\u001b[39m\u001b[38;5;124m\"\u001b[39m:\n\u001b[0;32m      7\u001b[0m     name_option \u001b[38;5;241m=\u001b[39m first_name\n\u001b[1;32m----> 8\u001b[0m     Random_name \u001b[38;5;241m=\u001b[39m \u001b[43mgenerateRandomName\u001b[49m\u001b[43m(\u001b[49m\u001b[43mname_no\u001b[49m\u001b[43m,\u001b[49m\u001b[43m \u001b[49m\u001b[43mname_option\u001b[49m\u001b[43m)\u001b[49m\n\u001b[0;32m      9\u001b[0m \u001b[38;5;28;01melif\u001b[39;00m name_no \u001b[38;5;241m==\u001b[39m \u001b[38;5;124m\"\u001b[39m\u001b[38;5;124m2\u001b[39m\u001b[38;5;124m\"\u001b[39m:\n\u001b[0;32m     10\u001b[0m     name_option \u001b[38;5;241m=\u001b[39m last_name\n",
      "Input \u001b[1;32mIn [86]\u001b[0m, in \u001b[0;36mgenerateRandomName\u001b[1;34m(name_no, name)\u001b[0m\n\u001b[0;32m      1\u001b[0m \u001b[38;5;28;01mdef\u001b[39;00m \u001b[38;5;21mgenerateRandomName\u001b[39m(name_no, name):\n\u001b[0;32m      3\u001b[0m     email_name \u001b[38;5;241m=\u001b[39m \u001b[38;5;124m\"\u001b[39m\u001b[38;5;124m\"\u001b[39m\n\u001b[1;32m----> 4\u001b[0m     first_name, last_name \u001b[38;5;241m=\u001b[39m \u001b[43mgetName\u001b[49m\u001b[43m(\u001b[49m\u001b[43m)\u001b[49m\n\u001b[0;32m      6\u001b[0m     \u001b[38;5;28;01mif\u001b[39;00m name_no \u001b[38;5;241m==\u001b[39m \u001b[38;5;124m\"\u001b[39m\u001b[38;5;124m1\u001b[39m\u001b[38;5;124m\"\u001b[39m \u001b[38;5;129;01mor\u001b[39;00m name_no \u001b[38;5;241m==\u001b[39m \u001b[38;5;124m\"\u001b[39m\u001b[38;5;124m2\u001b[39m\u001b[38;5;124m\"\u001b[39m:\n\u001b[0;32m      7\u001b[0m         email_name \u001b[38;5;241m=\u001b[39m name\n",
      "Input \u001b[1;32mIn [100]\u001b[0m, in \u001b[0;36mgetName\u001b[1;34m()\u001b[0m\n\u001b[0;32m      1\u001b[0m \u001b[38;5;28;01mdef\u001b[39;00m \u001b[38;5;21mgetName\u001b[39m():\n\u001b[0;32m      2\u001b[0m     \u001b[38;5;28;01mwhile\u001b[39;00m \u001b[38;5;28;01mTrue\u001b[39;00m:\n\u001b[1;32m----> 3\u001b[0m         first_name \u001b[38;5;241m=\u001b[39m \u001b[38;5;28;43minput\u001b[39;49m\u001b[43m(\u001b[49m\u001b[38;5;124;43m\"\u001b[39;49m\u001b[38;5;124;43mEnter first name: \u001b[39;49m\u001b[38;5;124;43m\"\u001b[39;49m\u001b[43m)\u001b[49m\u001b[38;5;241m.\u001b[39mstrip()\n\u001b[0;32m      4\u001b[0m         \u001b[38;5;28;01mif\u001b[39;00m first_name:\n\u001b[0;32m      5\u001b[0m             \u001b[38;5;28;01mbreak\u001b[39;00m\n",
      "File \u001b[1;32mF:\\Installation_folder\\Anaconda\\lib\\site-packages\\ipykernel\\kernelbase.py:1075\u001b[0m, in \u001b[0;36mKernel.raw_input\u001b[1;34m(self, prompt)\u001b[0m\n\u001b[0;32m   1071\u001b[0m \u001b[38;5;28;01mif\u001b[39;00m \u001b[38;5;129;01mnot\u001b[39;00m \u001b[38;5;28mself\u001b[39m\u001b[38;5;241m.\u001b[39m_allow_stdin:\n\u001b[0;32m   1072\u001b[0m     \u001b[38;5;28;01mraise\u001b[39;00m StdinNotImplementedError(\n\u001b[0;32m   1073\u001b[0m         \u001b[38;5;124m\"\u001b[39m\u001b[38;5;124mraw_input was called, but this frontend does not support input requests.\u001b[39m\u001b[38;5;124m\"\u001b[39m\n\u001b[0;32m   1074\u001b[0m     )\n\u001b[1;32m-> 1075\u001b[0m \u001b[38;5;28;01mreturn\u001b[39;00m \u001b[38;5;28;43mself\u001b[39;49m\u001b[38;5;241;43m.\u001b[39;49m\u001b[43m_input_request\u001b[49m\u001b[43m(\u001b[49m\n\u001b[0;32m   1076\u001b[0m \u001b[43m    \u001b[49m\u001b[38;5;28;43mstr\u001b[39;49m\u001b[43m(\u001b[49m\u001b[43mprompt\u001b[49m\u001b[43m)\u001b[49m\u001b[43m,\u001b[49m\n\u001b[0;32m   1077\u001b[0m \u001b[43m    \u001b[49m\u001b[38;5;28;43mself\u001b[39;49m\u001b[38;5;241;43m.\u001b[39;49m\u001b[43m_parent_ident\u001b[49m\u001b[43m[\u001b[49m\u001b[38;5;124;43m\"\u001b[39;49m\u001b[38;5;124;43mshell\u001b[39;49m\u001b[38;5;124;43m\"\u001b[39;49m\u001b[43m]\u001b[49m\u001b[43m,\u001b[49m\n\u001b[0;32m   1078\u001b[0m \u001b[43m    \u001b[49m\u001b[38;5;28;43mself\u001b[39;49m\u001b[38;5;241;43m.\u001b[39;49m\u001b[43mget_parent\u001b[49m\u001b[43m(\u001b[49m\u001b[38;5;124;43m\"\u001b[39;49m\u001b[38;5;124;43mshell\u001b[39;49m\u001b[38;5;124;43m\"\u001b[39;49m\u001b[43m)\u001b[49m\u001b[43m,\u001b[49m\n\u001b[0;32m   1079\u001b[0m \u001b[43m    \u001b[49m\u001b[43mpassword\u001b[49m\u001b[38;5;241;43m=\u001b[39;49m\u001b[38;5;28;43;01mFalse\u001b[39;49;00m\u001b[43m,\u001b[49m\n\u001b[0;32m   1080\u001b[0m \u001b[43m\u001b[49m\u001b[43m)\u001b[49m\n",
      "File \u001b[1;32mF:\\Installation_folder\\Anaconda\\lib\\site-packages\\ipykernel\\kernelbase.py:1120\u001b[0m, in \u001b[0;36mKernel._input_request\u001b[1;34m(self, prompt, ident, parent, password)\u001b[0m\n\u001b[0;32m   1117\u001b[0m             \u001b[38;5;28;01mbreak\u001b[39;00m\n\u001b[0;32m   1118\u001b[0m \u001b[38;5;28;01mexcept\u001b[39;00m \u001b[38;5;167;01mKeyboardInterrupt\u001b[39;00m:\n\u001b[0;32m   1119\u001b[0m     \u001b[38;5;66;03m# re-raise KeyboardInterrupt, to truncate traceback\u001b[39;00m\n\u001b[1;32m-> 1120\u001b[0m     \u001b[38;5;28;01mraise\u001b[39;00m \u001b[38;5;167;01mKeyboardInterrupt\u001b[39;00m(\u001b[38;5;124m\"\u001b[39m\u001b[38;5;124mInterrupted by user\u001b[39m\u001b[38;5;124m\"\u001b[39m) \u001b[38;5;28;01mfrom\u001b[39;00m \u001b[38;5;28mNone\u001b[39m\n\u001b[0;32m   1121\u001b[0m \u001b[38;5;28;01mexcept\u001b[39;00m \u001b[38;5;167;01mException\u001b[39;00m:\n\u001b[0;32m   1122\u001b[0m     \u001b[38;5;28mself\u001b[39m\u001b[38;5;241m.\u001b[39mlog\u001b[38;5;241m.\u001b[39mwarning(\u001b[38;5;124m\"\u001b[39m\u001b[38;5;124mInvalid Message:\u001b[39m\u001b[38;5;124m\"\u001b[39m, exc_info\u001b[38;5;241m=\u001b[39m\u001b[38;5;28;01mTrue\u001b[39;00m)\n",
      "\u001b[1;31mKeyboardInterrupt\u001b[0m: Interrupted by user"
     ]
    }
   ],
   "source": [
    "getNameOption()\n"
   ]
  },
  {
   "cell_type": "code",
   "execution_count": null,
   "id": "2a74a9e1",
   "metadata": {},
   "outputs": [],
   "source": [
    "print(generateRandomName(\"3\", \"Michael\"))"
   ]
  },
  {
   "cell_type": "code",
   "execution_count": null,
   "id": "c015a2f9",
   "metadata": {},
   "outputs": [],
   "source": [
    "print(Random_name)"
   ]
  },
  {
   "cell_type": "code",
   "execution_count": null,
   "id": "3b66194b",
   "metadata": {},
   "outputs": [],
   "source": []
  },
  {
   "cell_type": "code",
   "execution_count": null,
   "id": "e4ce32ea",
   "metadata": {},
   "outputs": [],
   "source": []
  }
 ],
 "metadata": {
  "kernelspec": {
   "display_name": "Python 3 (ipykernel)",
   "language": "python",
   "name": "python3"
  },
  "language_info": {
   "codemirror_mode": {
    "name": "ipython",
    "version": 3
   },
   "file_extension": ".py",
   "mimetype": "text/x-python",
   "name": "python",
   "nbconvert_exporter": "python",
   "pygments_lexer": "ipython3",
   "version": "3.9.12"
  }
 },
 "nbformat": 4,
 "nbformat_minor": 5
}
