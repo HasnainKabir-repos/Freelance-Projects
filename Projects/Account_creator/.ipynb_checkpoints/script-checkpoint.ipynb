{
 "cells": [
  {
   "cell_type": "code",
   "execution_count": 5,
   "id": "bea58d31",
   "metadata": {},
   "outputs": [],
   "source": [
    "import argparse\n",
    "import random\n",
    "import string\n",
    "import sys\n",
    "import time"
   ]
  },
  {
   "cell_type": "code",
   "execution_count": 63,
   "id": "5d2f3055",
   "metadata": {},
   "outputs": [],
   "source": [
    "DOMAINS = ['mail.com', 'email.com']\n",
    "domain = \"\"\n",
    "name_option = \"\"\n",
    "first_name = \"\"\n",
    "last_name = \"\"\n",
    "Random_name = \"\"\n"
   ]
  },
  {
   "cell_type": "code",
   "execution_count": 50,
   "id": "e4a515a6",
   "metadata": {},
   "outputs": [],
   "source": [
    "def getName():\n",
    "    first_name = input(\"Enter first name: \")\n",
    "    last_name = input(\"Enter last name: \")\n",
    "    \n",
    "    "
   ]
  },
  {
   "cell_type": "code",
   "execution_count": 23,
   "id": "c2cd6d59",
   "metadata": {},
   "outputs": [],
   "source": [
    "def getDomain():\n",
    "    domain_no = input(\"Select an email domain: write 1 for mail.com and 2 for email.com \")\n",
    "    \n",
    "    if domain_no == \"1\":\n",
    "        domain = DOMAINS[0]\n",
    "    elif domain_no == \"2\":\n",
    "        domain = DOMAINs[1]\n",
    "    else:\n",
    "        print(\"Invalid domain selection please try again\")\n",
    "        domain = \"\"\n",
    "        getDomain()\n",
    "    "
   ]
  },
  {
   "cell_type": "code",
   "execution_count": 64,
   "id": "817f1677",
   "metadata": {},
   "outputs": [],
   "source": [
    "def getNameOption():\n",
    "    print(\"Select your preferred name for email address creation:\")\n",
    "    name_no = input(\"Write 1 for first name, 2 for last name or 3 for full name: \")\n",
    "    \n",
    "    if name_no == \"1\":\n",
    "        name_option = first_name\n",
    "        Random_name = generateRandomName(name_no, name_option)\n",
    "    elif name_no == \"2\":\n",
    "        name_option = last_name\n",
    "        Random_name = generateRandomName(name_no, name_option)\n",
    "    elif name_no == \"3\":\n",
    "        #name_option = full_name\n",
    "        Random_name = generateRandomName(name_no, \"\")\n",
    "    else :\n",
    "        print(\"Invalid name selection please try again\")\n",
    "        name_option = \"\"\n",
    "        getNameOption()\n",
    "        "
   ]
  },
  {
   "cell_type": "code",
   "execution_count": 65,
   "id": "cea9af04",
   "metadata": {},
   "outputs": [],
   "source": [
    "def generateRandomName(name_no, name):\n",
    "    \n",
    "    email_name = \"\"\n",
    "    \n",
    "    if name_no == \"1\" or name_no == \"2\":\n",
    "        email_name = name\n",
    "        \n",
    "        email_name+= str(random.randint(1950,2023))\n",
    "    \n",
    "    else:\n",
    "        EMAIL_FORMATS = [ 'ab#', 'ba#', 'a_b', 'b_a', 'a.b#', 'b.a#']\n",
    "        format_choice = random.randint(0,5);\n",
    "        \n",
    "        for char in EMAIL_FORMATS[format_choice]:\n",
    "            if char == 'a':\n",
    "                email_name += first_name\n",
    "            elif char == 'b':\n",
    "                email_name += last_name\n",
    "            elif char == '#':\n",
    "                email_name += str(random.randint(1950, 2023))\n",
    "            else:\n",
    "                email_name += char\n",
    "    return email_name"
   ]
  },
  {
   "cell_type": "code",
   "execution_count": 66,
   "id": "2e4bfbf1",
   "metadata": {},
   "outputs": [
    {
     "name": "stdout",
     "output_type": "stream",
     "text": [
      "Enter first name: Nibir\n",
      "Enter last name: Kabir\n",
      "\n"
     ]
    }
   ],
   "source": [
    "getName()\n"
   ]
  },
  {
   "cell_type": "code",
   "execution_count": 70,
   "id": "ccc61c4c",
   "metadata": {},
   "outputs": [
    {
     "name": "stdout",
     "output_type": "stream",
     "text": [
      "Select your preferred name for email address creation:\n",
      "Write 1 for first name, 2 for last name or 3 for full name: 3\n",
      "\n"
     ]
    }
   ],
   "source": [
    "getNameOption()\n",
    "print(Random_name)"
   ]
  },
  {
   "cell_type": "code",
   "execution_count": 62,
   "id": "47d8db6b",
   "metadata": {},
   "outputs": [
    {
     "name": "stdout",
     "output_type": "stream",
     "text": [
      ".2021\n"
     ]
    }
   ],
   "source": [
    "print(generateRandomName(\"3\", \"Michael\"))"
   ]
  },
  {
   "cell_type": "code",
   "execution_count": 68,
   "id": "ca370644",
   "metadata": {},
   "outputs": [
    {
     "name": "stdout",
     "output_type": "stream",
     "text": [
      "\n"
     ]
    }
   ],
   "source": [
    "print(Random_name)"
   ]
  },
  {
   "cell_type": "code",
   "execution_count": null,
   "id": "99317d0d",
   "metadata": {},
   "outputs": [],
   "source": []
  }
 ],
 "metadata": {
  "kernelspec": {
   "display_name": "Python 3 (ipykernel)",
   "language": "python",
   "name": "python3"
  },
  "language_info": {
   "codemirror_mode": {
    "name": "ipython",
    "version": 3
   },
   "file_extension": ".py",
   "mimetype": "text/x-python",
   "name": "python",
   "nbconvert_exporter": "python",
   "pygments_lexer": "ipython3",
   "version": "3.9.12"
  }
 },
 "nbformat": 4,
 "nbformat_minor": 5
}
