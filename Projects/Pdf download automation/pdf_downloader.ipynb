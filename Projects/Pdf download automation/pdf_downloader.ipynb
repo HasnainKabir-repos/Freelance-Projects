{
 "cells": [
  {
   "cell_type": "code",
   "execution_count": 37,
   "id": "809154d9",
   "metadata": {},
   "outputs": [],
   "source": []
  },
  {
   "cell_type": "code",
   "execution_count": 193,
   "id": "8dde1827",
   "metadata": {},
   "outputs": [],
   "source": []
  },
  {
   "cell_type": "code",
   "execution_count": null,
   "id": "ba812445",
   "metadata": {},
   "outputs": [],
   "source": []
  },
  {
   "cell_type": "code",
   "execution_count": 1,
   "id": "3c412e33",
   "metadata": {},
   "outputs": [],
   "source": [
    "\n",
    "from selenium import webdriver\n",
    "import time\n",
    "import os\n",
    "from selenium.webdriver.common.by import By\n",
    "from selenium.webdriver.support.ui import WebDriverWait\n",
    "from selenium.webdriver.support import expected_conditions as EC\n",
    "from selenium.common.exceptions import StaleElementReferenceException, NoSuchWindowException\n"
   ]
  },
  {
   "cell_type": "code",
   "execution_count": 29,
   "id": "eae4b3d2",
   "metadata": {},
   "outputs": [
    {
     "name": "stderr",
     "output_type": "stream",
     "text": [
      "C:\\Users\\User\\AppData\\Local\\Temp\\ipykernel_9208\\1392345758.py:11: DeprecationWarning: use options instead of chrome_options\n",
      "  driver = webdriver.Chrome(chrome_options=chrome_options)\n"
     ]
    },
    {
     "name": "stdout",
     "output_type": "stream",
     "text": [
      "No file downloaded\n",
      "website crashed at row 99\n",
      "Restarting...\n"
     ]
    },
    {
     "ename": "KeyboardInterrupt",
     "evalue": "",
     "output_type": "error",
     "traceback": [
      "\u001b[1;31m---------------------------------------------------------------------------\u001b[0m",
      "\u001b[1;31mKeyboardInterrupt\u001b[0m                         Traceback (most recent call last)",
      "Input \u001b[1;32mIn [29]\u001b[0m, in \u001b[0;36m<cell line: 112>\u001b[1;34m()\u001b[0m\n\u001b[0;32m    110\u001b[0m j \u001b[38;5;241m=\u001b[39m start\n\u001b[0;32m    112\u001b[0m \u001b[38;5;28;01mwhile\u001b[39;00m j \u001b[38;5;241m<\u001b[39mend:\n\u001b[1;32m--> 114\u001b[0m     j \u001b[38;5;241m=\u001b[39m \u001b[43mdownload_pdf\u001b[49m\u001b[43m(\u001b[49m\u001b[43mdownload_path\u001b[49m\u001b[43m,\u001b[49m\u001b[43m \u001b[49m\u001b[43mj\u001b[49m\u001b[43m,\u001b[49m\u001b[43m \u001b[49m\u001b[43mend\u001b[49m\u001b[43m,\u001b[49m\u001b[43m \u001b[49m\u001b[43mj\u001b[49m\u001b[43m)\u001b[49m\n\u001b[0;32m    116\u001b[0m     \u001b[38;5;28;01mif\u001b[39;00m status \u001b[38;5;241m==\u001b[39m \u001b[38;5;124m\"\u001b[39m\u001b[38;5;124mcrashed\u001b[39m\u001b[38;5;124m\"\u001b[39m:\n\u001b[0;32m    117\u001b[0m         j\u001b[38;5;241m=\u001b[39mj\u001b[38;5;241m+\u001b[39m\u001b[38;5;241m1\u001b[39m\n",
      "Input \u001b[1;32mIn [29]\u001b[0m, in \u001b[0;36mdownload_pdf\u001b[1;34m(download_path, start, end, i)\u001b[0m\n\u001b[0;32m     33\u001b[0m before \u001b[38;5;241m=\u001b[39m os\u001b[38;5;241m.\u001b[39mlistdir(download_path)\n\u001b[0;32m     35\u001b[0m driver\u001b[38;5;241m.\u001b[39mexecute_script(activity_link\u001b[38;5;241m.\u001b[39mfind_element(By\u001b[38;5;241m.\u001b[39mTAG_NAME, \u001b[38;5;124m\"\u001b[39m\u001b[38;5;124ma\u001b[39m\u001b[38;5;124m\"\u001b[39m)\u001b[38;5;241m.\u001b[39mget_attribute(\u001b[38;5;124m\"\u001b[39m\u001b[38;5;124mhref\u001b[39m\u001b[38;5;124m\"\u001b[39m))\n\u001b[1;32m---> 37\u001b[0m \u001b[43mtime\u001b[49m\u001b[38;5;241;43m.\u001b[39;49m\u001b[43msleep\u001b[49m\u001b[43m(\u001b[49m\u001b[38;5;241;43m5\u001b[39;49m\u001b[43m)\u001b[49m\n\u001b[0;32m     39\u001b[0m \u001b[38;5;28;01mwhile\u001b[39;00m \u001b[38;5;28;01mTrue\u001b[39;00m:\n\u001b[0;32m     40\u001b[0m     \u001b[38;5;28;01mif\u001b[39;00m \u001b[38;5;129;01mnot\u001b[39;00m \u001b[38;5;28many\u001b[39m(filename\u001b[38;5;241m.\u001b[39mendswith(\u001b[38;5;124m\"\u001b[39m\u001b[38;5;124m.crdownload\u001b[39m\u001b[38;5;124m\"\u001b[39m) \u001b[38;5;28;01mfor\u001b[39;00m filename \u001b[38;5;129;01min\u001b[39;00m os\u001b[38;5;241m.\u001b[39mlistdir(download_path)):\n",
      "\u001b[1;31mKeyboardInterrupt\u001b[0m: "
     ]
    }
   ],
   "source": [
    "\n",
    "download_path = \"C:/Users/User/Downloads\"\n",
    "\n",
    "\n",
    "def download_pdf(download_path, start, end, i):\n",
    "    \n",
    "    global status\n",
    "    chrome_options = webdriver.ChromeOptions()\n",
    "    prefs = {\"profile.default_content_setting_values.automatic_downloads\": 1}\n",
    "    chrome_options.add_experimental_option(\"prefs\",prefs)\n",
    "\n",
    "    driver = webdriver.Chrome(chrome_options=chrome_options)\n",
    "    driver.get(\"http://mscs.dac.gov.in/MSCS/FiledAR_Old.aspx\")\n",
    "\n",
    "    table = WebDriverWait(driver, 20).until(\n",
    "            EC.presence_of_element_located((By.CLASS_NAME , \"mGrid\")))\n",
    "    table = driver.find_element(By.CLASS_NAME, \"mGrid\")\n",
    "\n",
    "    rows = table.find_elements(By.XPATH, \".//tr\")[1:]\n",
    "\n",
    "    file_names = {} \n",
    "\n",
    "    try:\n",
    "\n",
    "        for idx in range(start, end):\n",
    "            row = rows[idx]\n",
    "            name = row.find_element(By.XPATH, \".//td[2]\").text\n",
    "            year = row.find_element(By.XPATH, \".//td[4]\").text\n",
    "            updated = row.find_element(By.XPATH, \".//td[5]\").text\n",
    "\n",
    "            # For annual activity\n",
    "            activity_link = row.find_element(By.XPATH, \".//td[6]\")\n",
    "\n",
    "            before = os.listdir(download_path)\n",
    "\n",
    "            driver.execute_script(activity_link.find_element(By.TAG_NAME, \"a\").get_attribute(\"href\"))\n",
    "\n",
    "            time.sleep(5)\n",
    "\n",
    "            while True:\n",
    "                if not any(filename.endswith(\".crdownload\") for filename in os.listdir(download_path)):\n",
    "                    break\n",
    "\n",
    "            after = os.listdir(download_path)\n",
    "\n",
    "            change = set(after) - set(before)\n",
    "            if len(change) == 1:\n",
    "                file_name = change.pop()\n",
    "                file_names[f\"{download_path}/{file_name}\"] = f\"{download_path}/{name} {year} {updated} AnnualActivity.pdf\"\n",
    "            elif len(change) == 0:\n",
    "                print(\"No file downloaded\")\n",
    "            else:\n",
    "                print(\"More than one file downloaded\")\n",
    "\n",
    "            # For annual statement\n",
    "            statement_link = row.find_element(By.XPATH, \".//td[7]\")\n",
    "\n",
    "            before2 = os.listdir(download_path)\n",
    "\n",
    "            driver.execute_script(statement_link.find_element(By.TAG_NAME, \"a\").get_attribute(\"href\"))\n",
    "\n",
    "            time.sleep(5)\n",
    "\n",
    "            while True:\n",
    "                if not any(filename.endswith(\".crdownload\") for filename in os.listdir(download_path)):\n",
    "                    break\n",
    "\n",
    "            after2 = os.listdir(download_path)\n",
    "\n",
    "            change2 = set(after2) - set(before2)\n",
    "            if len(change2) == 1:\n",
    "                file_name = change2.pop()\n",
    "                file_names[f\"{download_path}/{file_name}\"] = f\"{download_path}/{name} {year} {updated} AnnualStatement.pdf\"\n",
    "            elif len(change2) == 0:\n",
    "                print(\"No file downloaded\")\n",
    "            else:\n",
    "                print(\"More than one file downloaded\")\n",
    "                \n",
    "            i = i + 1\n",
    "\n",
    "\n",
    "    except StaleElementReferenceException:\n",
    "        \n",
    "        driver.quit()\n",
    "        print('website crashed at row ' +str(i))\n",
    "    \n",
    "        status = \"crashed\"\n",
    "    except NoSuchWindowException:\n",
    "        \n",
    "        print('Window closed')\n",
    "        driver.quit()\n",
    "            \n",
    "        status = \"closed\"\n",
    "    \n",
    "    except Exception:\n",
    "        \n",
    "        driver.quit()\n",
    "            \n",
    "        status = \"other\"\n",
    "    else:            \n",
    "        status = \"okay\"\n",
    "        \n",
    "    for key, value in file_names.items():\n",
    "        os.rename(key, value)\n",
    "        \n",
    "    return i\n",
    "\n",
    "start = 99\n",
    "end = 5458\n",
    "filename = \"output.txt\"\n",
    "j = start\n",
    "\n",
    "while j <end:\n",
    "    \n",
    "    j = download_pdf(download_path, j, end, j)\n",
    "    \n",
    "    if status == \"crashed\":\n",
    "        j=j+1\n",
    "        with open(filename, 'a') as f:\n",
    "            f.write(\"row number \"+ str(j)+\" website keeps crashing so skipped\\n\")\n",
    "        \n",
    "        print('Restarting...')\n",
    "        \n",
    "        status = \"\"\n",
    "        continue;\n",
    "    elif status == \"closed\":\n",
    "        status = \"\"\n",
    "        break;\n",
    "    elif status == \"other\":\n",
    "        j=j+1\n",
    "        status = \"\"\n",
    "        with open(filename, 'a') as f:\n",
    "            f.write(\"row number \"+ str(j)+\" no pdf\\n\")\n",
    "        \n",
    "        continue;"
   ]
  },
  {
   "cell_type": "code",
   "execution_count": null,
   "id": "3aeed369",
   "metadata": {},
   "outputs": [],
   "source": [
    "\n",
    "            \n"
   ]
  },
  {
   "cell_type": "code",
   "execution_count": null,
   "id": "a0c8e523",
   "metadata": {},
   "outputs": [],
   "source": []
  },
  {
   "cell_type": "code",
   "execution_count": null,
   "id": "a40a719f",
   "metadata": {},
   "outputs": [],
   "source": []
  },
  {
   "cell_type": "code",
   "execution_count": null,
   "id": "ddb8e48f",
   "metadata": {},
   "outputs": [],
   "source": []
  },
  {
   "cell_type": "code",
   "execution_count": 206,
   "id": "59f819e4",
   "metadata": {},
   "outputs": [
    {
     "name": "stdout",
     "output_type": "stream",
     "text": [
      "{'C:/Users/User/Downloads/AR_AnnualReturn_638127660024671702_AR_AnnualReturn (1).pdf': 'C:/Users/User/Downloads/Harmony Multi State Cooperative Group Housing Society Ltd. , 2020-2123 Feb 2023 AnnualActivity.pdf'}\n"
     ]
    }
   ],
   "source": []
  },
  {
   "cell_type": "code",
   "execution_count": 24,
   "id": "ed5b7479",
   "metadata": {},
   "outputs": [
    {
     "name": "stdout",
     "output_type": "stream",
     "text": [
      "Blah\n",
      "Blah\n"
     ]
    }
   ],
   "source": [
    "def d(start, end, i):\n",
    "    for x in range(start, end):\n",
    "        print('Blah')\n",
    "        i+=1\n",
    "    return i\n",
    "        \n",
    "start = 16\n",
    "end = 18\n",
    "j= start\n",
    "\n",
    "while j<end:\n",
    "   j= d(j, end, j)"
   ]
  },
  {
   "cell_type": "code",
   "execution_count": 197,
   "id": "2b5ca49a",
   "metadata": {},
   "outputs": [],
   "source": []
  },
  {
   "cell_type": "code",
   "execution_count": null,
   "id": "eb2c7d36",
   "metadata": {},
   "outputs": [],
   "source": []
  },
  {
   "cell_type": "code",
   "execution_count": null,
   "id": "bc23f642",
   "metadata": {},
   "outputs": [],
   "source": []
  }
 ],
 "metadata": {
  "kernelspec": {
   "display_name": "Python 3 (ipykernel)",
   "language": "python",
   "name": "python3"
  },
  "language_info": {
   "codemirror_mode": {
    "name": "ipython",
    "version": 3
   },
   "file_extension": ".py",
   "mimetype": "text/x-python",
   "name": "python",
   "nbconvert_exporter": "python",
   "pygments_lexer": "ipython3",
   "version": "3.9.12"
  }
 },
 "nbformat": 4,
 "nbformat_minor": 5
}
