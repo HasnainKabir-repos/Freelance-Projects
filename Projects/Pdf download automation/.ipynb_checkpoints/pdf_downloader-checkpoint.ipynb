{
 "cells": [
  {
   "cell_type": "code",
   "execution_count": 13,
   "id": "809154d9",
   "metadata": {
    "scrolled": false
   },
   "outputs": [
    {
     "name": "stderr",
     "output_type": "stream",
     "text": [
      "C:\\Users\\User\\AppData\\Local\\Temp\\ipykernel_1832\\1188735231.py:21: DeprecationWarning: use options instead of chrome_options\n",
      "  driver = webdriver.Chrome(chrome_options=chrome_options)\n"
     ]
    },
    {
     "name": "stdout",
     "output_type": "stream",
     "text": [
      "No file downloaded\n",
      "website crashed at row 1\n",
      "Restarting...\n"
     ]
    }
   ],
   "source": [
    "from selenium import webdriver\n",
    "import time\n",
    "import os\n",
    "from selenium.webdriver.common.by import By\n",
    "from selenium.webdriver.support.ui import WebDriverWait\n",
    "from selenium.webdriver.support import expected_conditions as EC\n",
    "from selenium.common.exceptions import StaleElementReferenceException, NoSuchWindowException\n",
    "\n",
    "download_path = \"G:\\\\DOWNLOAD\"\n",
    "\n",
    "\n",
    "def download_pdf(download_path, start, end, i):\n",
    "    \n",
    "    global status \n",
    "    chrome_options = webdriver.ChromeOptions()\n",
    "    prefs = {\"profile.default_content_setting_values.automatic_downloads\": 1,\n",
    "            \"download.default_directory\": download_path,\n",
    "            \"directory_upgrade\": True}\n",
    "    chrome_options.add_experimental_option(\"prefs\",prefs)\n",
    "\n",
    "    driver = webdriver.Chrome(chrome_options=chrome_options)\n",
    "    driver.get(\"http://mscs.dac.gov.in/MSCS/FiledAR_Old.aspx\")\n",
    "\n",
    "    table = WebDriverWait(driver, 20).until(\n",
    "            EC.presence_of_element_located((By.CLASS_NAME , \"mGrid\")))\n",
    "    table = driver.find_element(By.CLASS_NAME, \"mGrid\")\n",
    "\n",
    "    rows = table.find_elements(By.XPATH, \".//tr\")[1:]\n",
    "\n",
    "    file_names = {} \n",
    "\n",
    "    try:\n",
    "\n",
    "        for idx in range(start, end):\n",
    "            row = rows[idx]\n",
    "            name = row.find_element(By.XPATH, \".//td[2]\").text\n",
    "            year = row.find_element(By.XPATH, \".//td[4]\").text\n",
    "            updated = row.find_element(By.XPATH, \".//td[5]\").text\n",
    "\n",
    "            # For annual activity\n",
    "            activity_link = row.find_element(By.XPATH, \".//td[6]\")\n",
    "\n",
    "            before = os.listdir(download_path)\n",
    "\n",
    "            driver.execute_script(activity_link.find_element(By.TAG_NAME, \"a\").get_attribute(\"href\"))\n",
    "\n",
    "            time.sleep(5)\n",
    "\n",
    "            while True:\n",
    "                if not any(filename.endswith(\".crdownload\") for filename in os.listdir(download_path)):\n",
    "                    break\n",
    "\n",
    "            after = os.listdir(download_path)\n",
    "\n",
    "            change = set(after) - set(before)\n",
    "            if len(change) == 1:\n",
    "                file_path = f\"{download_path}/{change.pop()}\"\n",
    "                file_root, file_ext = os.path.splitext(file_path)\n",
    "                \n",
    "                n_file = f\"{name} {year} {updated} AnnualActivity\"\n",
    "                n_file = n_file.replace(':', '-').replace('/', '_').replace('\"', '_').replace(\"'\", \"_\").replace('&', ',')\n",
    "                \n",
    "                file_names[file_path] = f\"{download_path}/{n_file}{file_ext}\"\n",
    "            elif len(change) == 0:\n",
    "                print(\"No file downloaded\")\n",
    "            else:\n",
    "                print(\"More than one file downloaded\")\n",
    "\n",
    "            # For annual statement\n",
    "            statement_link = row.find_element(By.XPATH, \".//td[7]\")\n",
    "\n",
    "            before2 = os.listdir(download_path)\n",
    "\n",
    "            driver.execute_script(statement_link.find_element(By.TAG_NAME, \"a\").get_attribute(\"href\"))\n",
    "\n",
    "            time.sleep(5)\n",
    "\n",
    "            while True:\n",
    "                if not any(filename.endswith(\".crdownload\") for filename in os.listdir(download_path)):\n",
    "                    break\n",
    "\n",
    "            after2 = os.listdir(download_path)\n",
    "\n",
    "            change2 = set(after2) - set(before2)\n",
    "            if len(change2) == 1:\n",
    "                file_path = f\"{download_path}/{change2.pop()}\"\n",
    "                file_root, file_ext = os.path.splitext(file_path)\n",
    "                \n",
    "                n_file = f\"{name} {year} {updated} ActivityStatement\"\n",
    "                n_file = n_file.replace(':', '-').replace('/', '_').replace('\"', '_').replace(\"'\", \"_\").replace('&', ',')\n",
    "                file_names[file_path] = f\"{download_path}/{n_file}{file_ext}\"\n",
    "            elif len(change2) == 0:\n",
    "                print(\"No file downloaded\")\n",
    "                \n",
    "                raise Exception\n",
    "            else:\n",
    "                print(\"More than one file downloaded\")\n",
    "                \n",
    "            i = i + 1\n",
    "\n",
    "\n",
    "    except StaleElementReferenceException:\n",
    "        \n",
    "        driver.quit()\n",
    "        print('website crashed at row ' +str(i+1))\n",
    "    \n",
    "        status = \"crashed\"\n",
    "    except NoSuchWindowException:\n",
    "        \n",
    "        print('Window closed')\n",
    "        driver.quit()\n",
    "            \n",
    "        status = \"closed\"\n",
    "    \n",
    "    except Exception:\n",
    "        \n",
    "        driver.quit()\n",
    "            \n",
    "        status = \"other\"\n",
    "    else:            \n",
    "        status = \"okay\"\n",
    "        \n",
    "    for key, value in file_names.items():\n",
    "        os.rename(key, value)\n",
    "        \n",
    "    return i\n",
    "\n",
    "\n",
    "start = 1\n",
    "end = 3\n",
    "filename = \"output.txt\"\n",
    "j = start-1\n",
    "\n",
    "while j <end:\n",
    "    \n",
    "    j = download_pdf(download_path, j, end, j)\n",
    "    \n",
    "    if status == \"crashed\":\n",
    "        with open(filename, 'a') as f:\n",
    "            f.write(\"row number \"+ str(j+1)+\" website keeps crashing so skipped\\n\")\n",
    "        j=j+1\n",
    "        print('Restarting...')\n",
    "        \n",
    "        status = \"\"\n",
    "        continue;\n",
    "    elif status == \"closed\":\n",
    "        status = \"\"\n",
    "        break;\n",
    "    elif status == \"other\":\n",
    "        \n",
    "        status = \"\"\n",
    "        with open(filename, 'a') as f:\n",
    "            f.write(\"Problem in row number \"+ str(j+1)+\"\\n\")\n",
    "        j=j+1\n",
    "        continue;\n",
    "            "
   ]
  },
  {
   "cell_type": "markdown",
   "id": "377ed641",
   "metadata": {},
   "source": []
  },
  {
   "cell_type": "code",
   "execution_count": null,
   "id": "ba812445",
   "metadata": {},
   "outputs": [],
   "source": []
  },
  {
   "cell_type": "code",
   "execution_count": 1,
   "id": "3c412e33",
   "metadata": {},
   "outputs": [],
   "source": [
    "\n"
   ]
  },
  {
   "cell_type": "code",
   "execution_count": null,
   "id": "eae4b3d2",
   "metadata": {},
   "outputs": [],
   "source": []
  },
  {
   "cell_type": "code",
   "execution_count": null,
   "id": "3aeed369",
   "metadata": {},
   "outputs": [],
   "source": [
    "\n",
    "            \n"
   ]
  },
  {
   "cell_type": "code",
   "execution_count": null,
   "id": "a0c8e523",
   "metadata": {},
   "outputs": [],
   "source": []
  },
  {
   "cell_type": "code",
   "execution_count": null,
   "id": "a40a719f",
   "metadata": {},
   "outputs": [],
   "source": []
  },
  {
   "cell_type": "code",
   "execution_count": null,
   "id": "ddb8e48f",
   "metadata": {},
   "outputs": [],
   "source": []
  },
  {
   "cell_type": "code",
   "execution_count": 206,
   "id": "59f819e4",
   "metadata": {},
   "outputs": [
    {
     "name": "stdout",
     "output_type": "stream",
     "text": [
      "{'C:/Users/User/Downloads/AR_AnnualReturn_638127660024671702_AR_AnnualReturn (1).pdf': 'C:/Users/User/Downloads/Harmony Multi State Cooperative Group Housing Society Ltd. , 2020-2123 Feb 2023 AnnualActivity.pdf'}\n"
     ]
    }
   ],
   "source": []
  },
  {
   "cell_type": "code",
   "execution_count": null,
   "id": "ed5b7479",
   "metadata": {},
   "outputs": [],
   "source": []
  },
  {
   "cell_type": "code",
   "execution_count": 197,
   "id": "2b5ca49a",
   "metadata": {},
   "outputs": [],
   "source": []
  },
  {
   "cell_type": "code",
   "execution_count": null,
   "id": "eb2c7d36",
   "metadata": {},
   "outputs": [],
   "source": []
  },
  {
   "cell_type": "code",
   "execution_count": null,
   "id": "bc23f642",
   "metadata": {},
   "outputs": [],
   "source": []
  }
 ],
 "metadata": {
  "kernelspec": {
   "display_name": "Python 3 (ipykernel)",
   "language": "python",
   "name": "python3"
  },
  "language_info": {
   "codemirror_mode": {
    "name": "ipython",
    "version": 3
   },
   "file_extension": ".py",
   "mimetype": "text/x-python",
   "name": "python",
   "nbconvert_exporter": "python",
   "pygments_lexer": "ipython3",
   "version": "3.9.12"
  }
 },
 "nbformat": 4,
 "nbformat_minor": 5
}
