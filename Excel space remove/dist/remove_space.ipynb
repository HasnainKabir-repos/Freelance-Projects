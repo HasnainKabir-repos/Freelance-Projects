{
 "cells": [
  {
   "cell_type": "code",
   "execution_count": null,
   "id": "d4fce35c",
   "metadata": {},
   "outputs": [],
   "source": [
    "\n"
   ]
  },
  {
   "cell_type": "code",
   "execution_count": 8,
   "id": "9bea4d7f",
   "metadata": {},
   "outputs": [],
   "source": [
    "\n",
    "    "
   ]
  },
  {
   "cell_type": "code",
   "execution_count": 2,
   "id": "ea506f96",
   "metadata": {},
   "outputs": [],
   "source": [
    "import pandas as pd"
   ]
  },
  {
   "cell_type": "code",
   "execution_count": 3,
   "id": "45cca9da",
   "metadata": {},
   "outputs": [
    {
     "data": {
      "text/plain": [
       "Unnamed: 0     object\n",
       "Unnamed: 1     object\n",
       "Unnamed: 2     object\n",
       "Unnamed: 3    float64\n",
       "dtype: object"
      ]
     },
     "execution_count": 3,
     "metadata": {},
     "output_type": "execute_result"
    }
   ],
   "source": [
    "filename = '2022 RBC Visa Excel -Working Copy (2) 1.xlsx'\n",
    "df = pd.read_excel(filename)\n",
    "df \n",
    "df.dtypes"
   ]
  },
  {
   "cell_type": "code",
   "execution_count": 55,
   "id": "6b7a5e82",
   "metadata": {},
   "outputs": [
    {
     "data": {
      "text/plain": [
       "Unnamed: 0     object\n",
       "Unnamed: 1     object\n",
       "Unnamed: 2     object\n",
       "Unnamed: 3    float64\n",
       "dtype: object"
      ]
     },
     "execution_count": 55,
     "metadata": {},
     "output_type": "execute_result"
    }
   ],
   "source": [
    "\n",
    "df[df.columns[0]] = df[df.columns[0]].str.strip()\n",
    "df[df.columns[0]] = pd.to_datetime(df[df.columns[0]], format='%b %d, %Y').dt.strftime('%d-%b-%Y')\n",
    "df.dtypes"
   ]
  },
  {
   "cell_type": "code",
   "execution_count": 56,
   "id": "f94b1f52",
   "metadata": {},
   "outputs": [
    {
     "data": {
      "text/html": [
       "<div>\n",
       "<style scoped>\n",
       "    .dataframe tbody tr th:only-of-type {\n",
       "        vertical-align: middle;\n",
       "    }\n",
       "\n",
       "    .dataframe tbody tr th {\n",
       "        vertical-align: top;\n",
       "    }\n",
       "\n",
       "    .dataframe thead th {\n",
       "        text-align: right;\n",
       "    }\n",
       "</style>\n",
       "<table border=\"1\" class=\"dataframe\">\n",
       "  <thead>\n",
       "    <tr style=\"text-align: right;\">\n",
       "      <th></th>\n",
       "      <th>Unnamed: 0</th>\n",
       "      <th>Unnamed: 1</th>\n",
       "      <th>Unnamed: 2</th>\n",
       "      <th>Unnamed: 3</th>\n",
       "    </tr>\n",
       "  </thead>\n",
       "  <tbody>\n",
       "    <tr>\n",
       "      <th>0</th>\n",
       "      <td>31-Dec-2022</td>\n",
       "      <td>SQ *HARRINGTON ENTERTA, Newcastle</td>\n",
       "      <td>Foreign Currency</td>\n",
       "      <td>11.40</td>\n",
       "    </tr>\n",
       "    <tr>\n",
       "      <th>1</th>\n",
       "      <td>31-Dec-2022</td>\n",
       "      <td>SMP*Absolute Megatainm, Lambton</td>\n",
       "      <td>Foreign Currency</td>\n",
       "      <td>14.39</td>\n",
       "    </tr>\n",
       "    <tr>\n",
       "      <th>2</th>\n",
       "      <td>31-Dec-2022</td>\n",
       "      <td>SMP*Absolute Megatainm, Lambton</td>\n",
       "      <td>Foreign Currency</td>\n",
       "      <td>9.59</td>\n",
       "    </tr>\n",
       "    <tr>\n",
       "      <th>3</th>\n",
       "      <td>31-Dec-2022</td>\n",
       "      <td>OUT ON SCREEN, VANCOUVER</td>\n",
       "      <td>NaN</td>\n",
       "      <td>268.00</td>\n",
       "    </tr>\n",
       "    <tr>\n",
       "      <th>4</th>\n",
       "      <td>31-Dec-2022</td>\n",
       "      <td>LONG &amp; MCQUADE, 905-837-9785</td>\n",
       "      <td>NaN</td>\n",
       "      <td>10.08</td>\n",
       "    </tr>\n",
       "    <tr>\n",
       "      <th>...</th>\n",
       "      <td>...</td>\n",
       "      <td>...</td>\n",
       "      <td>...</td>\n",
       "      <td>...</td>\n",
       "    </tr>\n",
       "    <tr>\n",
       "      <th>992</th>\n",
       "      <td>03-Jan-2022</td>\n",
       "      <td>AMZ*Joyinshop, WWW.AMAZON.CA</td>\n",
       "      <td>NaN</td>\n",
       "      <td>-3.22</td>\n",
       "    </tr>\n",
       "    <tr>\n",
       "      <th>993</th>\n",
       "      <td>02-Jan-2022</td>\n",
       "      <td>CANADAHELPS *DONATION</td>\n",
       "      <td>NaN</td>\n",
       "      <td>500.00</td>\n",
       "    </tr>\n",
       "    <tr>\n",
       "      <th>994</th>\n",
       "      <td>01-Jan-2022</td>\n",
       "      <td>NBX*COASTAL JAZZ &amp; BLU, 604-8725200</td>\n",
       "      <td>NaN</td>\n",
       "      <td>250.00</td>\n",
       "    </tr>\n",
       "    <tr>\n",
       "      <th>995</th>\n",
       "      <td>01-Jan-2022</td>\n",
       "      <td>NBX*VAN WRITERS FEST, 604-6816330</td>\n",
       "      <td>NaN</td>\n",
       "      <td>306.60</td>\n",
       "    </tr>\n",
       "    <tr>\n",
       "      <th>996</th>\n",
       "      <td>01-Jan-2022</td>\n",
       "      <td>OUT ON SCREEN, VANCOUVER</td>\n",
       "      <td>NaN</td>\n",
       "      <td>268.00</td>\n",
       "    </tr>\n",
       "  </tbody>\n",
       "</table>\n",
       "<p>997 rows × 4 columns</p>\n",
       "</div>"
      ],
      "text/plain": [
       "      Unnamed: 0                            Unnamed: 1         Unnamed: 2  \\\n",
       "0    31-Dec-2022    SQ *HARRINGTON ENTERTA, Newcastle   Foreign Currency    \n",
       "1    31-Dec-2022      SMP*Absolute Megatainm, Lambton   Foreign Currency    \n",
       "2    31-Dec-2022      SMP*Absolute Megatainm, Lambton   Foreign Currency    \n",
       "3    31-Dec-2022             OUT ON SCREEN, VANCOUVER                 NaN   \n",
       "4    31-Dec-2022         LONG & MCQUADE, 905-837-9785                 NaN   \n",
       "..           ...                                   ...                ...   \n",
       "992  03-Jan-2022         AMZ*Joyinshop, WWW.AMAZON.CA                 NaN   \n",
       "993  02-Jan-2022                CANADAHELPS *DONATION                 NaN   \n",
       "994  01-Jan-2022  NBX*COASTAL JAZZ & BLU, 604-8725200                 NaN   \n",
       "995  01-Jan-2022    NBX*VAN WRITERS FEST, 604-6816330                 NaN   \n",
       "996  01-Jan-2022             OUT ON SCREEN, VANCOUVER                 NaN   \n",
       "\n",
       "     Unnamed: 3  \n",
       "0         11.40  \n",
       "1         14.39  \n",
       "2          9.59  \n",
       "3        268.00  \n",
       "4         10.08  \n",
       "..          ...  \n",
       "992       -3.22  \n",
       "993      500.00  \n",
       "994      250.00  \n",
       "995      306.60  \n",
       "996      268.00  \n",
       "\n",
       "[997 rows x 4 columns]"
      ]
     },
     "execution_count": 56,
     "metadata": {},
     "output_type": "execute_result"
    }
   ],
   "source": [
    "df"
   ]
  },
  {
   "cell_type": "code",
   "execution_count": 57,
   "id": "d992aa82",
   "metadata": {},
   "outputs": [],
   "source": [
    "with pd.ExcelWriter('output.xlsx') as writer:\n",
    "    df.to_excel(writer, index=False, startrow=1, header=False)"
   ]
  },
  {
   "cell_type": "code",
   "execution_count": 32,
   "id": "a9dcea24",
   "metadata": {},
   "outputs": [
    {
     "data": {
      "text/plain": [
       "2021 RBC Savings Account    object\n",
       "Unnamed: 1                  object\n",
       "Unnamed: 2                  object\n",
       "Unnamed: 3                  object\n",
       "dtype: object"
      ]
     },
     "execution_count": 32,
     "metadata": {},
     "output_type": "execute_result"
    }
   ],
   "source": [
    "df = pd.read_excel('RBC savings 2021 -Working Copy.xlsx')\n",
    "df \n"
   ]
  },
  {
   "cell_type": "code",
   "execution_count": 9,
   "id": "259150e8",
   "metadata": {},
   "outputs": [
    {
     "name": "stdout",
     "output_type": "stream",
     "text": [
      "Column 1 is not a date format\n"
     ]
    }
   ],
   "source": [
    "import openpyxl\n",
    "\n",
    "# Load the Excel file\n",
    "wb = openpyxl.load_workbook('2022 RBC Visa Excel -Working Copy (2) 1.xlsx')\n",
    "\n",
    "# Select the first sheet\n",
    "sheet = wb.active\n",
    "\n",
    "# Check if the first column is a date format\n",
    "if sheet.cell(row=1, column=1).data_type == 'd':\n",
    "    print('Column 1 is a date format')\n",
    "else:\n",
    "    print('Column 1 is not a date format')"
   ]
  },
  {
   "cell_type": "code",
   "execution_count": null,
   "id": "b0b7d6d4",
   "metadata": {},
   "outputs": [],
   "source": []
  }
 ],
 "metadata": {
  "kernelspec": {
   "display_name": "Python 3 (ipykernel)",
   "language": "python",
   "name": "python3"
  },
  "language_info": {
   "codemirror_mode": {
    "name": "ipython",
    "version": 3
   },
   "file_extension": ".py",
   "mimetype": "text/x-python",
   "name": "python",
   "nbconvert_exporter": "python",
   "pygments_lexer": "ipython3",
   "version": "3.9.12"
  }
 },
 "nbformat": 4,
 "nbformat_minor": 5
}
