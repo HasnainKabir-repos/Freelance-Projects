{
 "cells": [
  {
   "cell_type": "code",
   "execution_count": 1,
   "id": "3f6a8ad0",
   "metadata": {},
   "outputs": [],
   "source": [
    "import openpyxl"
   ]
  },
  {
   "cell_type": "code",
   "execution_count": 63,
   "id": "836c7303",
   "metadata": {},
   "outputs": [
    {
     "name": "stdout",
     "output_type": "stream",
     "text": [
      "[{'Contact Name': 'Aaron Kopecki', 'Title': 'Leasing Manager', 'Role': 'Houston', 'Market': '(832) 640-4444', 'Phone Number': '3800 Garrott St, Houston, Texas 77006, United States', 'Address': 'Houston', 'City': 'Texas', 'State': 'Cody J Lutsch'}, {'Contact Name': 'President', 'Title': 'True Owner', 'Role': 'Houston', 'Market': '(832) 640-4444', 'Phone Number': '3800 Garrott St, Houston, Texas 77006, United States', 'Address': 'Houston', 'City': 'Texas', 'State': 'Sarah Massegee'}, {'Contact Name': 'Property Manager', 'Title': 'Houston', 'Role': '(832) 640-4444', 'Market': '3800 Garrott St, Houston, Texas 77006, United States', 'Phone Number': 'Houston', 'Address': 'Texas', 'City': 'Milton Mireless', 'State': 'Maintenance Manager'}, {'Contact Name': 'Houston', 'Title': '(832) 640-4444', 'Role': '3800 Garrott St, Houston, Texas 77006, United States', 'Market': 'Houston', 'Phone Number': 'Texas', 'Address': 'Mike Nabilsi', 'City': 'Houston', 'State': '(832) 640-4444'}, {'Contact Name': '3800 Garrott St, Houston, Texas 77006, United States', 'Title': 'Houston', 'Role': 'Texas', 'Market': 'Susana Ortiz', 'Phone Number': 'Property Manager', 'Address': 'Houston', 'City': '(832) 640-4444', 'State': '3800 Garrott St, Houston, Texas 77006, United States'}, {'Contact Name': 'Houston', 'Title': 'Texas', 'Role': 'Tasha Raie', 'Market': 'Leasing', 'Phone Number': 'Houston', 'Address': '3800 Garrott St, Houston, Texas 77006, United States', 'City': 'Houston', 'State': 'Texas'}, {'Contact Name': 'Abby Rojas', 'Title': 'Assistant Property Manager', 'Role': 'Property Manager', 'Market': 'Houston', 'Phone Number': '(832) 640-4444', 'Address': '3800 Garrott St, Houston, Texas 77006, United States', 'City': 'Houston', 'State': 'Texas'}]\n"
     ]
    }
   ],
   "source": [
    "old_sheet = 'Sheet2'\n",
    "new_sheet = 'Sheet3'\n",
    "\n",
    "def arrange_data(sheet_name, number_of_columns, data_begin_row):\n",
    "    wb = openpyxl.load_workbook(filename='correct project .xlsx')\n",
    "    sheet = wb[sheet_name]\n",
    "    order = [cell.value for row in sheet[1:number_of_columns] for cell in row]\n",
    "    max_row = sheet.max_row\n",
    "    rearranged_data =[]\n",
    "\n",
    "    i = 0\n",
    "\n",
    "    row_data = {}\n",
    "    for row in range(data_begin_row, max_row+1):\n",
    "        if i==len(order) :\n",
    "            i=0\n",
    "            rearranged_data.append(row_data)\n",
    "            row_data = {}\n",
    "\n",
    "        col_index = i + 1\n",
    "        cell_value = sheet.cell(row=row, column=1).value\n",
    "        row_data[order[i]] = cell_value\n",
    "        i+=1\n",
    "    \n",
    "    \n",
    "    print(rearranged_data)\n",
    "    header = list(rearranged_data[0].keys())\n",
    "    for col_num, column_title in enumerate(header, 1):\n",
    "        cell = wb[new_sheet].cell(row=1, column=col_num)\n",
    "        cell.value = column_title\n",
    "        \n",
    "    for row_num, row_data in enumerate(rearranged_data, 2):\n",
    "        for col_num, key in enumerate(header, 1):\n",
    "            cell = wb[new_sheet].cell(row=row_num, column=col_num)\n",
    "            cell.value = row_data[key]\n",
    "\n",
    "    wb.save(filename='correct project .xlsx')\n",
    "\n",
    "arrange_data('Sheet2', 8, 12)"
   ]
  },
  {
   "cell_type": "code",
   "execution_count": 51,
   "id": "508d3869",
   "metadata": {},
   "outputs": [
    {
     "name": "stdout",
     "output_type": "stream",
     "text": [
      "[{'Contact Name': 'Aaron Kopecki', 'Title': 'Leasing Manager', 'Role': 'Houston', 'Market': '(832) 640-4444', 'Phone Number': '3800 Garrott St, Houston, Texas 77006, United States', 'Address': 'Houston', 'City': 'Texas'}, {'Contact Name': 'Cody J Lutsch', 'Title': 'President', 'Role': 'True Owner', 'Market': 'Houston', 'Phone Number': '(832) 640-4444', 'Address': '3800 Garrott St, Houston, Texas 77006, United States', 'City': 'Houston'}, {'Contact Name': 'Texas', 'Title': 'Sarah Massegee', 'Role': 'Property Manager', 'Market': 'Houston', 'Phone Number': '(832) 640-4444', 'Address': '3800 Garrott St, Houston, Texas 77006, United States', 'City': 'Houston'}, {'Contact Name': 'Texas', 'Title': 'Milton Mireless', 'Role': 'Maintenance Manager', 'Market': 'Houston', 'Phone Number': '(832) 640-4444', 'Address': '3800 Garrott St, Houston, Texas 77006, United States', 'City': 'Houston'}, {'Contact Name': 'Texas', 'Title': 'Mike Nabilsi', 'Role': 'Houston', 'Market': '(832) 640-4444', 'Phone Number': '3800 Garrott St, Houston, Texas 77006, United States', 'Address': 'Houston', 'City': 'Texas'}, {'Contact Name': 'Susana Ortiz', 'Title': 'Property Manager', 'Role': 'Houston', 'Market': '(832) 640-4444', 'Phone Number': '3800 Garrott St, Houston, Texas 77006, United States', 'Address': 'Houston', 'City': 'Texas'}, {'Contact Name': 'Tasha Raie', 'Title': 'Leasing', 'Role': 'Houston', 'Market': '3800 Garrott St, Houston, Texas 77006, United States', 'Phone Number': 'Houston', 'Address': 'Texas', 'City': 'Abby Rojas'}, {'Contact Name': 'Assistant Property Manager', 'Title': 'Property Manager', 'Role': 'Houston', 'Market': '(832) 640-4444', 'Phone Number': '3800 Garrott St, Houston, Texas 77006, United States', 'Address': 'Houston', 'City': 'Texas'}, {'Contact Name': 'Valory Smith', 'Title': 'Assistant Property Manager', 'Role': 'Houston', 'Market': '(832) 640-4444', 'Phone Number': '3800 Garrott St, Houston, Texas 77006, United States', 'Address': 'Houston', 'City': 'Texas'}]\n"
     ]
    },
    {
     "data": {
      "text/plain": [
       "8"
      ]
     },
     "execution_count": 51,
     "metadata": {},
     "output_type": "execute_result"
    }
   ],
   "source": [
    "sheet_name = 'Sheet2'\n",
    "wb = openpyxl.load_workbook(filename='correct project .xlsx')\n",
    "sheet = wb[sheet_name]\n",
    "order = [cell.value for row in sheet[1:8] for cell in row]\n",
    "max_row = sheet.max_row\n",
    "rearranged_data =[]\n",
    "i = 0\n",
    "\n",
    "row_data = {}\n",
    "for row in range(12, max_row+1):\n",
    "    if i==len(order) - 1:\n",
    "        i=0\n",
    "        rearranged_data.append(row_data)\n",
    "        row_data = {}\n",
    "    \n",
    "    col_index = i + 1\n",
    "    cell_value = sheet.cell(row=row, column=1).value\n",
    "    row_data[order[i]] = cell_value\n",
    "    i+=1\n",
    "    \n",
    "    \n",
    "print(rearranged_data)\n",
    "len(order)"
   ]
  },
  {
   "cell_type": "code",
   "execution_count": 50,
   "id": "8050c2e8",
   "metadata": {},
   "outputs": [
    {
     "data": {
      "text/plain": [
       "'Leasing Manager'"
      ]
     },
     "execution_count": 50,
     "metadata": {},
     "output_type": "execute_result"
    }
   ],
   "source": [
    "sheet.cell(row=13, column=1).value"
   ]
  },
  {
   "cell_type": "code",
   "execution_count": null,
   "id": "cbc76f9e",
   "metadata": {},
   "outputs": [],
   "source": []
  }
 ],
 "metadata": {
  "kernelspec": {
   "display_name": "Python 3 (ipykernel)",
   "language": "python",
   "name": "python3"
  },
  "language_info": {
   "codemirror_mode": {
    "name": "ipython",
    "version": 3
   },
   "file_extension": ".py",
   "mimetype": "text/x-python",
   "name": "python",
   "nbconvert_exporter": "python",
   "pygments_lexer": "ipython3",
   "version": "3.9.12"
  }
 },
 "nbformat": 4,
 "nbformat_minor": 5
}
